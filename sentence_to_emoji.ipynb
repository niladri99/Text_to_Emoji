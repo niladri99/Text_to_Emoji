{
 "cells": [
  {
   "cell_type": "code",
   "execution_count": 5,
   "metadata": {},
   "outputs": [],
   "source": [
    "import numpy as np\n",
    "from emo_utils import *\n",
    "import emoji\n",
    "import matplotlib.pyplot as plt\n",
    "\n",
    "%matplotlib inline"
   ]
  },
  {
   "cell_type": "code",
   "execution_count": 6,
   "metadata": {},
   "outputs": [],
   "source": [
    "X_train, Y_train = read_csv('emojify_data.csv')"
   ]
  },
  {
   "cell_type": "code",
   "execution_count": 8,
   "metadata": {},
   "outputs": [],
   "source": [
    "maxLen = len(max(X_train, key=len).split())"
   ]
  },
  {
   "cell_type": "code",
   "execution_count": 12,
   "metadata": {},
   "outputs": [
    {
     "name": "stdout",
     "output_type": "stream",
     "text": [
      "her smile is so charming 😄\n"
     ]
    }
   ],
   "source": [
    "index = 99\n",
    "print(X_train[index], label_to_emoji(Y_train[index]))"
   ]
  },
  {
   "cell_type": "code",
   "execution_count": 17,
   "metadata": {},
   "outputs": [],
   "source": [
    "word_to_index, index_to_word, word_to_vec_map = read_glove_vecs('glove.6B/glove.6B.100d.txt')"
   ]
  },
  {
   "cell_type": "code",
   "execution_count": 14,
   "metadata": {},
   "outputs": [],
   "source": [
    "import numpy as np\n",
    "np.random.seed(0)\n",
    "from keras.models import Model\n",
    "from keras.layers import Dense, Input, Dropout, LSTM, Activation\n",
    "from keras.layers.embeddings import Embedding\n",
    "from keras.preprocessing import sequence\n",
    "from keras.initializers import glorot_uniform\n",
    "np.random.seed(1)"
   ]
  },
  {
   "cell_type": "code",
   "execution_count": 15,
   "metadata": {},
   "outputs": [],
   "source": [
    "def sentences_to_indices(X, word_to_index, max_len):   \n",
    "    m = X.shape[0]                                \n",
    "    X_indices = np.zeros((m, max_len))    \n",
    "    for i in range(m):                            \n",
    "        sentence_words = [w.lower() for w in X[i].split()]\n",
    "        j = 0\n",
    "        for w in sentence_words:\n",
    "            X_indices[i, j] = word_to_index[w]\n",
    "            j += 1    \n",
    "    return X_indices"
   ]
  },
  {
   "cell_type": "code",
   "execution_count": 52,
   "metadata": {
    "scrolled": true
   },
   "outputs": [
    {
     "name": "stdout",
     "output_type": "stream",
     "text": [
      "X1 = ['haha' 'lets play cricket' 'tonight we are eating pizza']\n",
      "X1_indices = [[171102.      0.      0.      0.      0.]\n",
      " [220930. 286375. 111805.      0.      0.]\n",
      " [361859. 384374.  58997. 132714. 285806.]]\n"
     ]
    }
   ],
   "source": [
    "X1 = np.array([\"haha\", \"lets play cricket\", \"tonight we are eating pizza\"])\n",
    "X1_indices = sentences_to_indices(X1,word_to_index, max_len = 5)\n",
    "print(\"X1 =\", X1)\n",
    "print(\"X1_indices =\", X1_indices)"
   ]
  },
  {
   "cell_type": "code",
   "execution_count": 19,
   "metadata": {},
   "outputs": [],
   "source": [
    "def pretrained_embedding_layer(word_to_vec_map, word_to_index):\n",
    "    \n",
    "    vocab_len = len(word_to_index) + 1                  \n",
    "    emb_dim = word_to_vec_map[\"cucumber\"].shape[0]     \n",
    "    emb_matrix = np.zeros((vocab_len, emb_dim))\n",
    "    for word, index in word_to_index.items():\n",
    "        emb_matrix[index, :] = word_to_vec_map[word] \n",
    "    embedding_layer = Embedding(vocab_len, emb_dim, trainable=False)\n",
    "    embedding_layer.build((None,))\n",
    "    embedding_layer.set_weights([emb_matrix])\n",
    "    \n",
    "    return embedding_layer"
   ]
  },
  {
   "cell_type": "code",
   "execution_count": 26,
   "metadata": {},
   "outputs": [],
   "source": [
    "def emoji_converter(input_shape, word_to_vec_map, word_to_index):\n",
    "    sentence_indices = Input(input_shape, dtype='int32')\n",
    "    embedding_layer = pretrained_embedding_layer(word_to_vec_map, word_to_index)\n",
    "    embeddings = embedding_layer(sentence_indices)   \n",
    "    X = LSTM(128, return_sequences=True)(embeddings)\n",
    "    X = Dropout(0.4)(X)\n",
    "    X = LSTM(128, return_sequences=False)(X)\n",
    "    X = Dropout(0.4)(X)\n",
    "    X = Dense(7)(X)\n",
    "    X = Activation('softmax')(X)\n",
    "    model = Model(inputs=sentence_indices, outputs=X)   \n",
    "    return model"
   ]
  },
  {
   "cell_type": "code",
   "execution_count": 27,
   "metadata": {},
   "outputs": [
    {
     "name": "stdout",
     "output_type": "stream",
     "text": [
      "_________________________________________________________________\n",
      "Layer (type)                 Output Shape              Param #   \n",
      "=================================================================\n",
      "input_3 (InputLayer)         (None, 10)                0         \n",
      "_________________________________________________________________\n",
      "embedding_3 (Embedding)      (None, 10, 100)           40000100  \n",
      "_________________________________________________________________\n",
      "lstm_5 (LSTM)                (None, 10, 128)           117248    \n",
      "_________________________________________________________________\n",
      "dropout_5 (Dropout)          (None, 10, 128)           0         \n",
      "_________________________________________________________________\n",
      "lstm_6 (LSTM)                (None, 128)               131584    \n",
      "_________________________________________________________________\n",
      "dropout_6 (Dropout)          (None, 128)               0         \n",
      "_________________________________________________________________\n",
      "dense_3 (Dense)              (None, 7)                 903       \n",
      "_________________________________________________________________\n",
      "activation_3 (Activation)    (None, 7)                 0         \n",
      "=================================================================\n",
      "Total params: 40,249,835\n",
      "Trainable params: 249,735\n",
      "Non-trainable params: 40,000,100\n",
      "_________________________________________________________________\n"
     ]
    }
   ],
   "source": [
    "model = emoji_converter((maxLen,), word_to_vec_map, word_to_index)\n",
    "model.summary()"
   ]
  },
  {
   "cell_type": "code",
   "execution_count": 32,
   "metadata": {},
   "outputs": [],
   "source": [
    "model.compile(loss='categorical_crossentropy', optimizer='adam', metrics=['accuracy'])"
   ]
  },
  {
   "cell_type": "code",
   "execution_count": 33,
   "metadata": {},
   "outputs": [],
   "source": [
    "X_train_indices = sentences_to_indices(X_train, word_to_index, maxLen)\n",
    "Y_train_one_hot = convert_to_one_hot(Y_train, C = 7)"
   ]
  },
  {
   "cell_type": "code",
   "execution_count": 34,
   "metadata": {},
   "outputs": [
    {
     "name": "stdout",
     "output_type": "stream",
     "text": [
      "Epoch 1/50\n",
      "183/183 [==============================] - 2s 10ms/step - loss: 1.8616 - acc: 0.2623\n",
      "Epoch 2/50\n",
      "183/183 [==============================] - 0s 497us/step - loss: 1.6079 - acc: 0.3661\n",
      "Epoch 3/50\n",
      "183/183 [==============================] - 0s 522us/step - loss: 1.5480 - acc: 0.3279\n",
      "Epoch 4/50\n",
      "183/183 [==============================] - 0s 530us/step - loss: 1.4455 - acc: 0.3607\n",
      "Epoch 5/50\n",
      "183/183 [==============================] - 0s 531us/step - loss: 1.2945 - acc: 0.5027\n",
      "Epoch 6/50\n",
      "183/183 [==============================] - 0s 502us/step - loss: 1.0033 - acc: 0.6557\n",
      "Epoch 7/50\n",
      "183/183 [==============================] - 0s 532us/step - loss: 0.8183 - acc: 0.6995\n",
      "Epoch 8/50\n",
      "183/183 [==============================] - 0s 546us/step - loss: 0.7014 - acc: 0.7104\n",
      "Epoch 9/50\n",
      "183/183 [==============================] - 0s 517us/step - loss: 0.6136 - acc: 0.7432\n",
      "Epoch 10/50\n",
      "183/183 [==============================] - 0s 580us/step - loss: 0.4524 - acc: 0.8470\n",
      "Epoch 11/50\n",
      "183/183 [==============================] - 0s 511us/step - loss: 0.3562 - acc: 0.8798\n",
      "Epoch 12/50\n",
      "183/183 [==============================] - 0s 542us/step - loss: 0.3240 - acc: 0.9071\n",
      "Epoch 13/50\n",
      "183/183 [==============================] - 0s 519us/step - loss: 0.3297 - acc: 0.8962\n",
      "Epoch 14/50\n",
      "183/183 [==============================] - 0s 547us/step - loss: 0.4973 - acc: 0.7978\n",
      "Epoch 15/50\n",
      "183/183 [==============================] - 0s 533us/step - loss: 0.3217 - acc: 0.9016\n",
      "Epoch 16/50\n",
      "183/183 [==============================] - 0s 540us/step - loss: 0.3755 - acc: 0.8907\n",
      "Epoch 17/50\n",
      "183/183 [==============================] - 0s 569us/step - loss: 0.2611 - acc: 0.9071\n",
      "Epoch 18/50\n",
      "183/183 [==============================] - 0s 553us/step - loss: 0.1929 - acc: 0.9399\n",
      "Epoch 19/50\n",
      "183/183 [==============================] - 0s 554us/step - loss: 0.1162 - acc: 0.9781\n",
      "Epoch 20/50\n",
      "183/183 [==============================] - 0s 585us/step - loss: 0.1272 - acc: 0.9563\n",
      "Epoch 21/50\n",
      "183/183 [==============================] - 0s 555us/step - loss: 0.0787 - acc: 0.9836\n",
      "Epoch 22/50\n",
      "183/183 [==============================] - 0s 565us/step - loss: 0.0712 - acc: 0.9781\n",
      "Epoch 23/50\n",
      "183/183 [==============================] - 0s 569us/step - loss: 0.0650 - acc: 0.9891\n",
      "Epoch 24/50\n",
      "183/183 [==============================] - 0s 526us/step - loss: 0.0353 - acc: 0.9891\n",
      "Epoch 25/50\n",
      "183/183 [==============================] - 0s 575us/step - loss: 0.0518 - acc: 0.9781\n",
      "Epoch 26/50\n",
      "183/183 [==============================] - 0s 526us/step - loss: 0.0615 - acc: 0.9891\n",
      "Epoch 27/50\n",
      "183/183 [==============================] - 0s 556us/step - loss: 0.0778 - acc: 0.9727\n",
      "Epoch 28/50\n",
      "183/183 [==============================] - 0s 532us/step - loss: 0.1699 - acc: 0.9235\n",
      "Epoch 29/50\n",
      "183/183 [==============================] - 0s 550us/step - loss: 0.1101 - acc: 0.9563\n",
      "Epoch 30/50\n",
      "183/183 [==============================] - 0s 563us/step - loss: 0.1037 - acc: 0.9563\n",
      "Epoch 31/50\n",
      "183/183 [==============================] - 0s 580us/step - loss: 0.0998 - acc: 0.9727\n",
      "Epoch 32/50\n",
      "183/183 [==============================] - 0s 595us/step - loss: 0.0796 - acc: 0.9672\n",
      "Epoch 33/50\n",
      "183/183 [==============================] - 0s 550us/step - loss: 0.0907 - acc: 0.9727\n",
      "Epoch 34/50\n",
      "183/183 [==============================] - 0s 581us/step - loss: 0.0896 - acc: 0.9672\n",
      "Epoch 35/50\n",
      "183/183 [==============================] - 0s 581us/step - loss: 0.0509 - acc: 0.9836\n",
      "Epoch 36/50\n",
      "183/183 [==============================] - 0s 558us/step - loss: 0.0249 - acc: 1.0000\n",
      "Epoch 37/50\n",
      "183/183 [==============================] - 0s 588us/step - loss: 0.0192 - acc: 1.0000\n",
      "Epoch 38/50\n",
      "183/183 [==============================] - 0s 572us/step - loss: 0.0120 - acc: 1.0000\n",
      "Epoch 39/50\n",
      "183/183 [==============================] - 0s 618us/step - loss: 0.0127 - acc: 1.0000\n",
      "Epoch 40/50\n",
      "183/183 [==============================] - 0s 537us/step - loss: 0.0079 - acc: 1.0000\n",
      "Epoch 41/50\n",
      "183/183 [==============================] - 0s 561us/step - loss: 0.0061 - acc: 1.0000\n",
      "Epoch 42/50\n",
      "183/183 [==============================] - 0s 534us/step - loss: 0.0049 - acc: 1.0000\n",
      "Epoch 43/50\n",
      "183/183 [==============================] - 0s 586us/step - loss: 0.0043 - acc: 1.0000\n",
      "Epoch 44/50\n",
      "183/183 [==============================] - 0s 540us/step - loss: 0.0042 - acc: 1.0000\n",
      "Epoch 45/50\n",
      "183/183 [==============================] - 0s 511us/step - loss: 0.0031 - acc: 1.0000\n",
      "Epoch 46/50\n",
      "183/183 [==============================] - 0s 569us/step - loss: 0.0028 - acc: 1.0000\n",
      "Epoch 47/50\n",
      "183/183 [==============================] - 0s 562us/step - loss: 0.0027 - acc: 1.0000\n",
      "Epoch 48/50\n",
      "183/183 [==============================] - 0s 697us/step - loss: 0.0019 - acc: 1.0000\n",
      "Epoch 49/50\n",
      "183/183 [==============================] - 0s 678us/step - loss: 0.0022 - acc: 1.0000\n",
      "Epoch 50/50\n",
      "183/183 [==============================] - 0s 562us/step - loss: 0.0018 - acc: 1.0000\n"
     ]
    },
    {
     "data": {
      "text/plain": [
       "<keras.callbacks.History at 0x7ff57af44828>"
      ]
     },
     "execution_count": 34,
     "metadata": {},
     "output_type": "execute_result"
    }
   ],
   "source": [
    "model.fit(X_train_indices, Y_train_one_hot, epochs = 50, batch_size = 32, shuffle=True)"
   ]
  },
  {
   "cell_type": "code",
   "execution_count": 63,
   "metadata": {},
   "outputs": [],
   "source": [
    "x_test = np.array([['I do not like movies'],[\"I feel lonely\"],[\"Let us go and watch football world cup tonight\"],[\"Honey lets go out for a date\"],[\"She is the most amazing girl\"],[\"Happy birthday Raj\"],[\"This is the best day of my life\"],[\"My mom is the best\"]])"
   ]
  },
  {
   "cell_type": "code",
   "execution_count": 64,
   "metadata": {},
   "outputs": [
    {
     "name": "stdout",
     "output_type": "stream",
     "text": [
      "I do not like movies 😞\n",
      "I feel lonely 😞\n",
      "Let us go and watch football world cup tonight ⚾\n",
      "Honey lets go out for a date 🍴\n",
      "She is the most amazing girl ❤️\n",
      "Happy birthday Raj 😄\n",
      "This is the best day of my life 😄\n",
      "My mom is the best ❤️\n"
     ]
    }
   ],
   "source": [
    "for x in x_test:\n",
    "    X_test_indices = sentences_to_indices(x, word_to_index, maxLen)\n",
    "    print(x[0] +' '+  label_to_emoji(np.argmax(model.predict(X_test_indices))))"
   ]
  },
  {
   "cell_type": "code",
   "execution_count": null,
   "metadata": {},
   "outputs": [],
   "source": []
  }
 ],
 "metadata": {
  "kernelspec": {
   "display_name": "Python 3",
   "language": "python",
   "name": "python3"
  },
  "language_info": {
   "codemirror_mode": {
    "name": "ipython",
    "version": 3
   },
   "file_extension": ".py",
   "mimetype": "text/x-python",
   "name": "python",
   "nbconvert_exporter": "python",
   "pygments_lexer": "ipython3",
   "version": "3.6.5"
  }
 },
 "nbformat": 4,
 "nbformat_minor": 2
}
