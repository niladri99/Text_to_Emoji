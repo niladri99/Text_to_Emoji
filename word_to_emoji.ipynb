{
 "cells": [
  {
   "cell_type": "code",
   "execution_count": 3,
   "metadata": {},
   "outputs": [],
   "source": [
    "import numpy as np\n",
    "import emoji\n",
    "import matplotlib.pyplot as plt\n",
    "from IPython.core.display import display, HTML\n",
    "%matplotlib inline"
   ]
  },
  {
   "cell_type": "code",
   "execution_count": 4,
   "metadata": {},
   "outputs": [],
   "source": [
    "from emo_uni import emo_list,emo_get"
   ]
  },
  {
   "cell_type": "code",
   "execution_count": 5,
   "metadata": {},
   "outputs": [
    {
     "data": {
      "text/plain": [
       "3415"
      ]
     },
     "execution_count": 5,
     "metadata": {},
     "output_type": "execute_result"
    }
   ],
   "source": [
    "len(emo_list)"
   ]
  },
  {
   "cell_type": "code",
   "execution_count": 6,
   "metadata": {},
   "outputs": [],
   "source": [
    "z=emo_list[2390]"
   ]
  },
  {
   "cell_type": "code",
   "execution_count": 7,
   "metadata": {},
   "outputs": [
    {
     "data": {
      "text/plain": [
       "'woman_getting_massage_light_skin_tone'"
      ]
     },
     "execution_count": 7,
     "metadata": {},
     "output_type": "execute_result"
    }
   ],
   "source": [
    "z"
   ]
  },
  {
   "cell_type": "code",
   "execution_count": 8,
   "metadata": {},
   "outputs": [],
   "source": [
    "e_l=[]\n",
    "for i in emo_list:\n",
    "    e_l.append(str(i.replace(\"_\",\" \")).lower())"
   ]
  },
  {
   "cell_type": "code",
   "execution_count": 9,
   "metadata": {},
   "outputs": [
    {
     "data": {
      "text/plain": [
       "['2nd place medal',\n",
       " '3rd place medal',\n",
       " 'ab button (blood type)',\n",
       " 'atm sign',\n",
       " 'a button (blood type)',\n",
       " 'afghanistan',\n",
       " 'albania',\n",
       " 'algeria',\n",
       " 'american samoa']"
      ]
     },
     "execution_count": 9,
     "metadata": {},
     "output_type": "execute_result"
    }
   ],
   "source": [
    "e_l[1:10]"
   ]
  },
  {
   "cell_type": "code",
   "execution_count": 11,
   "metadata": {},
   "outputs": [
    {
     "name": "stdout",
     "output_type": "stream",
     "text": [
      "🇮🇳 is the greatest\n"
     ]
    }
   ],
   "source": [
    "print(emoji.emojize(':India: is the greatest'))"
   ]
  },
  {
   "cell_type": "code",
   "execution_count": 11,
   "metadata": {},
   "outputs": [],
   "source": [
    "import spacy"
   ]
  },
  {
   "cell_type": "code",
   "execution_count": 12,
   "metadata": {},
   "outputs": [
    {
     "name": "stderr",
     "output_type": "stream",
     "text": [
      "100%|██████████| 400000/400000 [00:42<00:00, 9378.62it/s]\n"
     ]
    }
   ],
   "source": [
    "nlp = spacy.load('en')\n",
    "from tqdm import tqdm\n",
    "with open('/home/niladri/Projects/emoji/glove.6B/glove.6B.300d.txt', 'r') as f:\n",
    "    for line in tqdm(f, total=400000):\n",
    "        parts = line.split()\n",
    "        word = parts[0]\n",
    "        vec = np.array([float(v) for v in parts[1:]], dtype='f')\n",
    "        nlp.vocab.set_vector(word, vec)"
   ]
  },
  {
   "cell_type": "code",
   "execution_count": 13,
   "metadata": {},
   "outputs": [
    {
     "name": "stderr",
     "output_type": "stream",
     "text": [
      "100%|██████████| 3415/3415 [00:34<00:00, 98.43it/s]\n"
     ]
    }
   ],
   "source": [
    "docs = [nlp(str(keywords)) for keywords in tqdm(e_l)]\n",
    "doc_vectors = np.array([doc.vector for doc in docs])"
   ]
  },
  {
   "cell_type": "code",
   "execution_count": 14,
   "metadata": {},
   "outputs": [],
   "source": [
    "from numpy import dot\n",
    "from numpy.linalg import norm"
   ]
  },
  {
   "cell_type": "code",
   "execution_count": 15,
   "metadata": {},
   "outputs": [],
   "source": [
    "def most_similar(vectors, vec):\n",
    "    cosine = lambda v1, v2: dot(v1, v2) / (norm(v1) * norm(v2))\n",
    "    dst = np.dot(vectors, vec) / (norm(vectors) * norm(vec))\n",
    "    return (np.argsort(-dst))[0],max(dst)"
   ]
  },
  {
   "cell_type": "code",
   "execution_count": 111,
   "metadata": {},
   "outputs": [],
   "source": [
    "sentences=[\"star boy\",\"i love you\",\"x marks the spot\",\"the pizza is great\",\"chicken lays eggs\",\"games or a mobile ?\",\"i have scored hundred in maths\",\"She is the queen of hearts\",\"messi is the king of soccer\",\"lets build a rocket\",\"I will dance at your wedding\",\"i love my mother\",\"coffee or tea\",\"aliens have cool spaceships\",\"india is the greatest\",\"china is a wonderful country\",\"good job\",\"the terrorist bombed the church\"]"
   ]
  },
  {
   "cell_type": "code",
   "execution_count": 112,
   "metadata": {},
   "outputs": [
    {
     "name": "stdout",
     "output_type": "stream",
     "text": [
      "star boy\n"
     ]
    },
    {
     "data": {
      "text/html": [
       "<font size=\"+3\">⭐ 👦</font>"
      ],
      "text/plain": [
       "<IPython.core.display.HTML object>"
      ]
     },
     "metadata": {},
     "output_type": "display_data"
    },
    {
     "name": "stdout",
     "output_type": "stream",
     "text": [
      "i love you\n"
     ]
    },
    {
     "data": {
      "text/html": [
       "<font size=\"+3\">🆔 💌 🙅</font>"
      ],
      "text/plain": [
       "<IPython.core.display.HTML object>"
      ]
     },
     "metadata": {},
     "output_type": "display_data"
    },
    {
     "name": "stdout",
     "output_type": "stream",
     "text": [
      "x marks the spot\n"
     ]
    },
    {
     "data": {
      "text/html": [
       "<font size=\"+3\">❌ 💴 the spot</font>"
      ],
      "text/plain": [
       "<IPython.core.display.HTML object>"
      ]
     },
     "metadata": {},
     "output_type": "display_data"
    },
    {
     "name": "stdout",
     "output_type": "stream",
     "text": [
      "the pizza is great\n"
     ]
    },
    {
     "data": {
      "text/html": [
       "<font size=\"+3\">the 🍕 🅰 great</font>"
      ],
      "text/plain": [
       "<IPython.core.display.HTML object>"
      ]
     },
     "metadata": {},
     "output_type": "display_data"
    },
    {
     "name": "stdout",
     "output_type": "stream",
     "text": [
      "chicken lays eggs\n"
     ]
    },
    {
     "data": {
      "text/html": [
       "<font size=\"+3\">🐔 lays 🍳</font>"
      ],
      "text/plain": [
       "<IPython.core.display.HTML object>"
      ]
     },
     "metadata": {},
     "output_type": "display_data"
    },
    {
     "name": "stdout",
     "output_type": "stream",
     "text": [
      "games or a mobile ?\n"
     ]
    },
    {
     "data": {
      "text/html": [
       "<font size=\"+3\">🎮 or 🅰 📱 🙅</font>"
      ],
      "text/plain": [
       "<IPython.core.display.HTML object>"
      ]
     },
     "metadata": {},
     "output_type": "display_data"
    },
    {
     "name": "stdout",
     "output_type": "stream",
     "text": [
      "i have scored hundred in maths\n"
     ]
    },
    {
     "data": {
      "text/html": [
       "<font size=\"+3\">🆔 have 🥅 💯 in maths</font>"
      ],
      "text/plain": [
       "<IPython.core.display.HTML object>"
      ]
     },
     "metadata": {},
     "output_type": "display_data"
    },
    {
     "name": "stdout",
     "output_type": "stream",
     "text": [
      "She is the queen of hearts\n"
     ]
    },
    {
     "data": {
      "text/html": [
       "<font size=\"+3\">👩 🅰 the 👸 of ♥</font>"
      ],
      "text/plain": [
       "<IPython.core.display.HTML object>"
      ]
     },
     "metadata": {},
     "output_type": "display_data"
    },
    {
     "name": "stdout",
     "output_type": "stream",
     "text": [
      "messi is the king of soccer\n"
     ]
    },
    {
     "data": {
      "text/html": [
       "<font size=\"+3\">messi 🅰 the 🤴 of ⚽</font>"
      ],
      "text/plain": [
       "<IPython.core.display.HTML object>"
      ]
     },
     "metadata": {},
     "output_type": "display_data"
    },
    {
     "name": "stdout",
     "output_type": "stream",
     "text": [
      "lets build a rocket\n"
     ]
    },
    {
     "data": {
      "text/html": [
       "<font size=\"+3\">lets 🏗 🅰 🚀</font>"
      ],
      "text/plain": [
       "<IPython.core.display.HTML object>"
      ]
     },
     "metadata": {},
     "output_type": "display_data"
    },
    {
     "name": "stdout",
     "output_type": "stream",
     "text": [
      "I will dance at your wedding\n"
     ]
    },
    {
     "data": {
      "text/html": [
       "<font size=\"+3\">🆔 will 👯 🌉 your 💒</font>"
      ],
      "text/plain": [
       "<IPython.core.display.HTML object>"
      ]
     },
     "metadata": {},
     "output_type": "display_data"
    },
    {
     "name": "stdout",
     "output_type": "stream",
     "text": [
      "i love my mother\n"
     ]
    },
    {
     "data": {
      "text/html": [
       "<font size=\"+3\">🆔 💌 my 👩</font>"
      ],
      "text/plain": [
       "<IPython.core.display.HTML object>"
      ]
     },
     "metadata": {},
     "output_type": "display_data"
    },
    {
     "name": "stdout",
     "output_type": "stream",
     "text": [
      "coffee or tea\n"
     ]
    },
    {
     "data": {
      "text/html": [
       "<font size=\"+3\">☕ or 🍵</font>"
      ],
      "text/plain": [
       "<IPython.core.display.HTML object>"
      ]
     },
     "metadata": {},
     "output_type": "display_data"
    },
    {
     "name": "stdout",
     "output_type": "stream",
     "text": [
      "aliens have cool spaceships\n"
     ]
    },
    {
     "data": {
      "text/html": [
       "<font size=\"+3\">👽 have 🆒 spaceships</font>"
      ],
      "text/plain": [
       "<IPython.core.display.HTML object>"
      ]
     },
     "metadata": {},
     "output_type": "display_data"
    },
    {
     "name": "stdout",
     "output_type": "stream",
     "text": [
      "india is the greatest\n"
     ]
    },
    {
     "data": {
      "text/html": [
       "<font size=\"+3\">🇮🇳 🅰 the greatest</font>"
      ],
      "text/plain": [
       "<IPython.core.display.HTML object>"
      ]
     },
     "metadata": {},
     "output_type": "display_data"
    },
    {
     "name": "stdout",
     "output_type": "stream",
     "text": [
      "china is a wonderful country\n"
     ]
    },
    {
     "data": {
      "text/html": [
       "<font size=\"+3\">🇨🇳 🅰 🅰 wonderful 🇮🇶</font>"
      ],
      "text/plain": [
       "<IPython.core.display.HTML object>"
      ]
     },
     "metadata": {},
     "output_type": "display_data"
    },
    {
     "name": "stdout",
     "output_type": "stream",
     "text": [
      "good job\n"
     ]
    },
    {
     "data": {
      "text/html": [
       "<font size=\"+3\">🙅 job</font>"
      ],
      "text/plain": [
       "<IPython.core.display.HTML object>"
      ]
     },
     "metadata": {},
     "output_type": "display_data"
    },
    {
     "name": "stdout",
     "output_type": "stream",
     "text": [
      "the terrorist bombed the church\n"
     ]
    },
    {
     "data": {
      "text/html": [
       "<font size=\"+3\">the 💣 💣 the ⛪</font>"
      ],
      "text/plain": [
       "<IPython.core.display.HTML object>"
      ]
     },
     "metadata": {},
     "output_type": "display_data"
    }
   ],
   "source": [
    "for sentence in sentences:\n",
    "    l=[]\n",
    "    for w in sentence.split(\" \"):\n",
    "        v = nlp(w.lower()).vector\n",
    "        ms,sim=most_similar(doc_vectors, v)\n",
    "        #print(sim)\n",
    "        if(sim>0.0115):\n",
    "            word=emo_get[ms]\n",
    "            l.append(emoji.emojize(word,use_aliases=True))\n",
    "        else:\n",
    "            l.append(w)\n",
    "    print(sentence)\n",
    "    display(HTML('<font size=\"+3\">{}</font>'.format(' '.join([x for x in l]))))"
   ]
  },
  {
   "cell_type": "code",
   "execution_count": null,
   "metadata": {},
   "outputs": [],
   "source": []
  }
 ],
 "metadata": {
  "kernelspec": {
   "display_name": "Python 3",
   "language": "python",
   "name": "python3"
  },
  "language_info": {
   "codemirror_mode": {
    "name": "ipython",
    "version": 3
   },
   "file_extension": ".py",
   "mimetype": "text/x-python",
   "name": "python",
   "nbconvert_exporter": "python",
   "pygments_lexer": "ipython3",
   "version": "3.6.5"
  }
 },
 "nbformat": 4,
 "nbformat_minor": 2
}
