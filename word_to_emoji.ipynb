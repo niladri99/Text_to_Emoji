{
 "cells": [
  {
   "cell_type": "code",
   "execution_count": 113,
   "metadata": {},
   "outputs": [],
   "source": [
    "import numpy as np\n",
    "import emoji\n",
    "import matplotlib.pyplot as plt\n",
    "from IPython.core.display import display, HTML\n",
    "%matplotlib inline"
   ]
  },
  {
   "cell_type": "code",
   "execution_count": 114,
   "metadata": {},
   "outputs": [],
   "source": [
    "from emo_uni import emo_list,emo_get"
   ]
  },
  {
   "cell_type": "code",
   "execution_count": 4,
   "metadata": {},
   "outputs": [
    {
     "data": {
      "text/plain": [
       "3415"
      ]
     },
     "execution_count": 4,
     "metadata": {},
     "output_type": "execute_result"
    }
   ],
   "source": [
    "len(emo_list)"
   ]
  },
  {
   "cell_type": "code",
   "execution_count": 5,
   "metadata": {},
   "outputs": [],
   "source": [
    "z=emo_list[2390]"
   ]
  },
  {
   "cell_type": "code",
   "execution_count": 6,
   "metadata": {},
   "outputs": [
    {
     "data": {
      "text/plain": [
       "'woman_getting_massage_light_skin_tone'"
      ]
     },
     "execution_count": 6,
     "metadata": {},
     "output_type": "execute_result"
    }
   ],
   "source": [
    "z"
   ]
  },
  {
   "cell_type": "code",
   "execution_count": 7,
   "metadata": {},
   "outputs": [],
   "source": [
    "e_l=[]\n",
    "for i in emo_list:\n",
    "    e_l.append(str(i.replace(\"_\",\" \")).lower())"
   ]
  },
  {
   "cell_type": "code",
   "execution_count": 8,
   "metadata": {},
   "outputs": [
    {
     "data": {
      "text/plain": [
       "['1st place medal',\n",
       " '2nd place medal',\n",
       " '3rd place medal',\n",
       " 'ab button (blood type)',\n",
       " 'atm sign',\n",
       " 'a button (blood type)',\n",
       " 'afghanistan',\n",
       " 'albania',\n",
       " 'algeria',\n",
       " 'american samoa',\n",
       " 'andorra',\n",
       " 'angola',\n",
       " 'anguilla',\n",
       " 'antarctica',\n",
       " 'antigua & barbuda',\n",
       " 'aquarius',\n",
       " 'argentina',\n",
       " 'aries',\n",
       " 'armenia',\n",
       " 'aruba',\n",
       " 'ascension island',\n",
       " 'australia',\n",
       " 'austria',\n",
       " 'azerbaijan',\n",
       " 'back arrow',\n",
       " 'b button (blood type)',\n",
       " 'bahamas',\n",
       " 'bahrain',\n",
       " 'bangladesh',\n",
       " 'barbados',\n",
       " 'belarus',\n",
       " 'belgium',\n",
       " 'belize',\n",
       " 'benin',\n",
       " 'bermuda',\n",
       " 'bhutan',\n",
       " 'bolivia',\n",
       " 'bosnia & herzegovina',\n",
       " 'botswana',\n",
       " 'bouvet island',\n",
       " 'brazil',\n",
       " 'british indian ocean territory',\n",
       " 'british virgin islands',\n",
       " 'brunei',\n",
       " 'bulgaria',\n",
       " 'burkina faso',\n",
       " 'burundi',\n",
       " 'cl button',\n",
       " 'cool button',\n",
       " 'cambodia',\n",
       " 'cameroon',\n",
       " 'canada',\n",
       " 'canary islands',\n",
       " 'cancer',\n",
       " 'cape verde',\n",
       " 'capricorn',\n",
       " 'caribbean netherlands',\n",
       " 'cayman islands',\n",
       " 'central african republic',\n",
       " 'ceuta & melilla',\n",
       " 'chad',\n",
       " 'chile',\n",
       " 'china',\n",
       " 'christmas island',\n",
       " 'christmas tree',\n",
       " 'clipperton island',\n",
       " 'cocos (keeling) islands',\n",
       " 'colombia',\n",
       " 'comoros',\n",
       " 'congo - brazzaville',\n",
       " 'congo - kinshasa',\n",
       " 'cook islands',\n",
       " 'costa rica',\n",
       " 'croatia',\n",
       " 'cuba',\n",
       " 'curaçao',\n",
       " 'cyprus',\n",
       " 'czechia',\n",
       " 'côte d’ivoire',\n",
       " 'denmark',\n",
       " 'diego garcia',\n",
       " 'djibouti',\n",
       " 'dominica',\n",
       " 'dominican republic',\n",
       " 'end arrow',\n",
       " 'ecuador',\n",
       " 'egypt',\n",
       " 'el salvador',\n",
       " 'england',\n",
       " 'equatorial guinea',\n",
       " 'eritrea',\n",
       " 'estonia',\n",
       " 'ethiopia',\n",
       " 'european union',\n",
       " 'free button',\n",
       " 'falkland islands',\n",
       " 'faroe islands',\n",
       " 'fiji',\n",
       " 'finland',\n",
       " 'france',\n",
       " 'french guiana',\n",
       " 'french polynesia',\n",
       " 'french southern territories',\n",
       " 'gabon',\n",
       " 'gambia',\n",
       " 'gemini',\n",
       " 'georgia',\n",
       " 'germany',\n",
       " 'ghana',\n",
       " 'gibraltar',\n",
       " 'greece',\n",
       " 'greenland',\n",
       " 'grenada',\n",
       " 'guadeloupe',\n",
       " 'guam',\n",
       " 'guatemala',\n",
       " 'guernsey',\n",
       " 'guinea',\n",
       " 'guinea-bissau',\n",
       " 'guyana',\n",
       " 'haiti',\n",
       " 'heard & mcdonald islands',\n",
       " 'honduras',\n",
       " 'hong kong sar china',\n",
       " 'hungary',\n",
       " 'id button',\n",
       " 'iceland',\n",
       " 'india',\n",
       " 'indonesia',\n",
       " 'iran',\n",
       " 'iraq',\n",
       " 'ireland',\n",
       " 'isle of man',\n",
       " 'israel',\n",
       " 'italy',\n",
       " 'jamaica',\n",
       " 'japan',\n",
       " 'japanese acceptable button',\n",
       " 'japanese application button',\n",
       " 'japanese bargain button',\n",
       " 'japanese castle',\n",
       " 'japanese congratulations button',\n",
       " 'japanese discount button',\n",
       " 'japanese dolls',\n",
       " 'japanese free of charge button',\n",
       " 'japanese here button',\n",
       " 'japanese monthly amount button',\n",
       " 'japanese no vacancy button',\n",
       " 'japanese not free of charge button',\n",
       " 'japanese open for business button',\n",
       " 'japanese passing grade button',\n",
       " 'japanese post office',\n",
       " 'japanese prohibited button',\n",
       " 'japanese reserved button',\n",
       " 'japanese secret button',\n",
       " 'japanese service charge button',\n",
       " 'japanese symbol for beginner',\n",
       " 'japanese vacancy button',\n",
       " 'jersey',\n",
       " 'jordan',\n",
       " 'kazakhstan',\n",
       " 'kenya',\n",
       " 'kiribati',\n",
       " 'kosovo',\n",
       " 'kuwait',\n",
       " 'kyrgyzstan',\n",
       " 'laos',\n",
       " 'latvia',\n",
       " 'lebanon',\n",
       " 'leo',\n",
       " 'lesotho',\n",
       " 'liberia',\n",
       " 'libra',\n",
       " 'libya',\n",
       " 'liechtenstein',\n",
       " 'lithuania',\n",
       " 'luxembourg',\n",
       " 'macau sar china',\n",
       " 'macedonia',\n",
       " 'madagascar',\n",
       " 'malawi',\n",
       " 'malaysia',\n",
       " 'maldives',\n",
       " 'mali',\n",
       " 'malta',\n",
       " 'marshall islands',\n",
       " 'martinique',\n",
       " 'mauritania',\n",
       " 'mauritius',\n",
       " 'mayotte',\n",
       " 'mexico',\n",
       " 'micronesia',\n",
       " 'moldova',\n",
       " 'monaco',\n",
       " 'mongolia',\n",
       " 'montenegro',\n",
       " 'montserrat',\n",
       " 'morocco',\n",
       " 'mozambique',\n",
       " 'mrs. claus',\n",
       " 'mrs. claus dark skin tone',\n",
       " 'mrs. claus light skin tone',\n",
       " 'mrs. claus medium-dark skin tone',\n",
       " 'mrs. claus medium-light skin tone',\n",
       " 'mrs. claus medium skin tone',\n",
       " 'myanmar (burma)',\n",
       " 'new button',\n",
       " 'ng button',\n",
       " 'namibia',\n",
       " 'nauru',\n",
       " 'nepal',\n",
       " 'netherlands',\n",
       " 'new caledonia',\n",
       " 'new zealand',\n",
       " 'nicaragua',\n",
       " 'niger',\n",
       " 'nigeria',\n",
       " 'niue',\n",
       " 'norfolk island',\n",
       " 'north korea',\n",
       " 'northern mariana islands',\n",
       " 'norway',\n",
       " 'ok button',\n",
       " 'ok hand',\n",
       " 'ok hand dark skin tone',\n",
       " 'ok hand light skin tone',\n",
       " 'ok hand medium-dark skin tone',\n",
       " 'ok hand medium-light skin tone',\n",
       " 'ok hand medium skin tone',\n",
       " 'on! arrow',\n",
       " 'o button (blood type)',\n",
       " 'oman',\n",
       " 'ophiuchus',\n",
       " 'p button',\n",
       " 'pakistan',\n",
       " 'palau',\n",
       " 'palestinian territories',\n",
       " 'panama',\n",
       " 'papua new guinea',\n",
       " 'paraguay',\n",
       " 'peru',\n",
       " 'philippines',\n",
       " 'pisces',\n",
       " 'pitcairn islands',\n",
       " 'poland',\n",
       " 'portugal',\n",
       " 'puerto rico',\n",
       " 'qatar',\n",
       " 'romania',\n",
       " 'russia',\n",
       " 'rwanda',\n",
       " 'réunion',\n",
       " 'soon arrow',\n",
       " 'sos button',\n",
       " 'sagittarius',\n",
       " 'samoa',\n",
       " 'san marino',\n",
       " 'santa claus',\n",
       " 'santa claus dark skin tone',\n",
       " 'santa claus light skin tone',\n",
       " 'santa claus medium-dark skin tone',\n",
       " 'santa claus medium-light skin tone',\n",
       " 'santa claus medium skin tone',\n",
       " 'saudi arabia',\n",
       " 'scorpio',\n",
       " 'scotland',\n",
       " 'senegal',\n",
       " 'serbia',\n",
       " 'seychelles',\n",
       " 'sierra leone',\n",
       " 'singapore',\n",
       " 'sint maarten',\n",
       " 'slovakia',\n",
       " 'slovenia',\n",
       " 'solomon islands',\n",
       " 'somalia',\n",
       " 'south africa',\n",
       " 'south georgia & south sandwich islands',\n",
       " 'south korea',\n",
       " 'south sudan',\n",
       " 'spain',\n",
       " 'sri lanka',\n",
       " 'st. barthélemy',\n",
       " 'st. helena',\n",
       " 'st. kitts & nevis',\n",
       " 'st. lucia',\n",
       " 'st. martin',\n",
       " 'st. pierre & miquelon',\n",
       " 'st. vincent & grenadines',\n",
       " 'statue of liberty',\n",
       " 'sudan',\n",
       " 'suriname',\n",
       " 'svalbard & jan mayen',\n",
       " 'swaziland',\n",
       " 'sweden',\n",
       " 'switzerland',\n",
       " 'syria',\n",
       " 'são tomé & príncipe',\n",
       " 't-rex',\n",
       " 'top arrow',\n",
       " 'taiwan',\n",
       " 'tajikistan',\n",
       " 'tanzania',\n",
       " 'taurus',\n",
       " 'thailand',\n",
       " 'timor-leste',\n",
       " 'togo',\n",
       " 'tokelau',\n",
       " 'tokyo tower',\n",
       " 'tonga',\n",
       " 'trinidad & tobago',\n",
       " 'tristan da cunha',\n",
       " 'tunisia',\n",
       " 'turkey',\n",
       " 'turkmenistan',\n",
       " 'turks & caicos islands',\n",
       " 'tuvalu',\n",
       " 'u.s. outlying islands',\n",
       " 'u.s. virgin islands',\n",
       " 'up! button',\n",
       " 'uganda',\n",
       " 'ukraine',\n",
       " 'united arab emirates',\n",
       " 'united kingdom',\n",
       " 'united nations',\n",
       " 'united states',\n",
       " 'uruguay',\n",
       " 'uzbekistan',\n",
       " 'vs button',\n",
       " 'vanuatu',\n",
       " 'vatican city',\n",
       " 'venezuela',\n",
       " 'vietnam',\n",
       " 'virgo',\n",
       " 'wales',\n",
       " 'wallis & futuna',\n",
       " 'western sahara',\n",
       " 'yemen',\n",
       " 'zambia',\n",
       " 'zimbabwe',\n",
       " 'admission tickets',\n",
       " 'adult',\n",
       " 'adult dark skin tone',\n",
       " 'adult light skin tone',\n",
       " 'adult medium-dark skin tone',\n",
       " 'adult medium-light skin tone',\n",
       " 'adult medium skin tone',\n",
       " 'aerial tramway',\n",
       " 'airplane',\n",
       " 'airplane arrival',\n",
       " 'airplane departure',\n",
       " 'alarm clock',\n",
       " 'alembic',\n",
       " 'alien',\n",
       " 'alien monster',\n",
       " 'ambulance',\n",
       " 'american football',\n",
       " 'amphora',\n",
       " 'anchor',\n",
       " 'anger symbol',\n",
       " 'angry face',\n",
       " 'angry face with horns',\n",
       " 'anguished face',\n",
       " 'ant',\n",
       " 'antenna bars',\n",
       " 'anxious face with sweat',\n",
       " 'articulated lorry',\n",
       " 'artist palette',\n",
       " 'astonished face',\n",
       " 'atom symbol',\n",
       " 'automobile',\n",
       " 'avocado',\n",
       " 'baby',\n",
       " 'baby angel',\n",
       " 'baby angel dark skin tone',\n",
       " 'baby angel light skin tone',\n",
       " 'baby angel medium-dark skin tone',\n",
       " 'baby angel medium-light skin tone',\n",
       " 'baby angel medium skin tone',\n",
       " 'baby bottle',\n",
       " 'baby chick',\n",
       " 'baby dark skin tone',\n",
       " 'baby light skin tone',\n",
       " 'baby medium-dark skin tone',\n",
       " 'baby medium-light skin tone',\n",
       " 'baby medium skin tone',\n",
       " 'baby symbol',\n",
       " 'backhand index pointing down',\n",
       " 'backhand index pointing down dark skin tone',\n",
       " 'backhand index pointing down light skin tone',\n",
       " 'backhand index pointing down medium-dark skin tone',\n",
       " 'backhand index pointing down medium-light skin tone',\n",
       " 'backhand index pointing down medium skin tone',\n",
       " 'backhand index pointing left',\n",
       " 'backhand index pointing left dark skin tone',\n",
       " 'backhand index pointing left light skin tone',\n",
       " 'backhand index pointing left medium-dark skin tone',\n",
       " 'backhand index pointing left medium-light skin tone',\n",
       " 'backhand index pointing left medium skin tone',\n",
       " 'backhand index pointing right',\n",
       " 'backhand index pointing right dark skin tone',\n",
       " 'backhand index pointing right light skin tone',\n",
       " 'backhand index pointing right medium-dark skin tone',\n",
       " 'backhand index pointing right medium-light skin tone',\n",
       " 'backhand index pointing right medium skin tone',\n",
       " 'backhand index pointing up',\n",
       " 'backhand index pointing up dark skin tone',\n",
       " 'backhand index pointing up light skin tone',\n",
       " 'backhand index pointing up medium-dark skin tone',\n",
       " 'backhand index pointing up medium-light skin tone',\n",
       " 'backhand index pointing up medium skin tone',\n",
       " 'bacon',\n",
       " 'badminton',\n",
       " 'baggage claim',\n",
       " 'baguette bread',\n",
       " 'balance scale',\n",
       " 'balloon',\n",
       " 'ballot box with ballot',\n",
       " 'ballot box with check',\n",
       " 'banana',\n",
       " 'bank',\n",
       " 'bar chart',\n",
       " 'barber pole',\n",
       " 'baseball',\n",
       " 'basketball',\n",
       " 'bat',\n",
       " 'bathtub',\n",
       " 'battery',\n",
       " 'beach with umbrella',\n",
       " 'beaming face with smiling eyes',\n",
       " 'bear face',\n",
       " 'bearded person',\n",
       " 'bearded person dark skin tone',\n",
       " 'bearded person light skin tone',\n",
       " 'bearded person medium-dark skin tone',\n",
       " 'bearded person medium-light skin tone',\n",
       " 'bearded person medium skin tone',\n",
       " 'beating heart',\n",
       " 'bed',\n",
       " 'beer mug',\n",
       " 'bell',\n",
       " 'bell with slash',\n",
       " 'bellhop bell',\n",
       " 'bento box',\n",
       " 'bicycle',\n",
       " 'bikini',\n",
       " 'billed cap',\n",
       " 'biohazard',\n",
       " 'bird',\n",
       " 'birthday cake',\n",
       " 'black circle',\n",
       " 'black flag',\n",
       " 'black heart',\n",
       " 'black large square',\n",
       " 'black medium-small square',\n",
       " 'black medium square',\n",
       " 'black nib',\n",
       " 'black small square',\n",
       " 'black square button',\n",
       " 'blond-haired man',\n",
       " 'blond-haired man dark skin tone',\n",
       " 'blond-haired man light skin tone',\n",
       " 'blond-haired man medium-dark skin tone',\n",
       " 'blond-haired man medium-light skin tone',\n",
       " 'blond-haired man medium skin tone',\n",
       " 'blond-haired person',\n",
       " 'blond-haired person dark skin tone',\n",
       " 'blond-haired person light skin tone',\n",
       " 'blond-haired person medium-dark skin tone',\n",
       " 'blond-haired person medium-light skin tone',\n",
       " 'blond-haired person medium skin tone',\n",
       " 'blond-haired woman',\n",
       " 'blond-haired woman dark skin tone',\n",
       " 'blond-haired woman light skin tone',\n",
       " 'blond-haired woman medium-dark skin tone',\n",
       " 'blond-haired woman medium-light skin tone',\n",
       " 'blond-haired woman medium skin tone',\n",
       " 'blossom',\n",
       " 'blowfish',\n",
       " 'blue book',\n",
       " 'blue circle',\n",
       " 'blue heart',\n",
       " 'boar',\n",
       " 'bomb',\n",
       " 'bookmark',\n",
       " 'bookmark tabs',\n",
       " 'books',\n",
       " 'bottle with popping cork',\n",
       " 'bouquet',\n",
       " 'bow and arrow',\n",
       " 'bowl with spoon',\n",
       " 'bowling',\n",
       " 'boxing glove',\n",
       " 'boy',\n",
       " 'boy dark skin tone',\n",
       " 'boy light skin tone',\n",
       " 'boy medium-dark skin tone',\n",
       " 'boy medium-light skin tone',\n",
       " 'boy medium skin tone',\n",
       " 'brain',\n",
       " 'bread',\n",
       " 'breast-feeding',\n",
       " 'breast-feeding dark skin tone',\n",
       " 'breast-feeding light skin tone',\n",
       " 'breast-feeding medium-dark skin tone',\n",
       " 'breast-feeding medium-light skin tone',\n",
       " 'breast-feeding medium skin tone',\n",
       " 'bride with veil',\n",
       " 'bride with veil dark skin tone',\n",
       " 'bride with veil light skin tone',\n",
       " 'bride with veil medium-dark skin tone',\n",
       " 'bride with veil medium-light skin tone',\n",
       " 'bride with veil medium skin tone',\n",
       " 'bridge at night',\n",
       " 'briefcase',\n",
       " 'bright button',\n",
       " 'broccoli',\n",
       " 'broken heart',\n",
       " 'bug',\n",
       " 'building construction',\n",
       " 'bullet train',\n",
       " 'burrito',\n",
       " 'bus',\n",
       " 'bus stop',\n",
       " 'bust in silhouette',\n",
       " 'busts in silhouette',\n",
       " 'butterfly',\n",
       " 'cactus',\n",
       " 'calendar',\n",
       " 'call me hand',\n",
       " 'call me hand dark skin tone',\n",
       " 'call me hand light skin tone',\n",
       " 'call me hand medium-dark skin tone',\n",
       " 'call me hand medium-light skin tone',\n",
       " 'call me hand medium skin tone',\n",
       " 'camel',\n",
       " 'camera',\n",
       " 'camera with flash',\n",
       " 'camping',\n",
       " 'candle',\n",
       " 'candy',\n",
       " 'canned food',\n",
       " 'canoe',\n",
       " 'card file box',\n",
       " 'card index',\n",
       " 'card index dividers',\n",
       " 'carousel horse',\n",
       " 'carp streamer',\n",
       " 'carrot',\n",
       " 'castle',\n",
       " 'cat',\n",
       " 'cat face',\n",
       " 'cat face with tears of joy',\n",
       " 'cat face with wry smile',\n",
       " 'chains',\n",
       " 'chart decreasing',\n",
       " 'chart increasing',\n",
       " 'chart increasing with yen',\n",
       " 'cheese wedge',\n",
       " 'chequered flag',\n",
       " 'cherries',\n",
       " 'cherry blossom',\n",
       " 'chestnut',\n",
       " 'chicken',\n",
       " 'child',\n",
       " 'child dark skin tone',\n",
       " 'child light skin tone',\n",
       " 'child medium-dark skin tone',\n",
       " 'child medium-light skin tone',\n",
       " 'child medium skin tone',\n",
       " 'children crossing',\n",
       " 'chipmunk',\n",
       " 'chocolate bar',\n",
       " 'chopsticks',\n",
       " 'church',\n",
       " 'cigarette',\n",
       " 'cinema',\n",
       " 'circled m',\n",
       " 'circus tent',\n",
       " 'cityscape',\n",
       " 'cityscape at dusk',\n",
       " 'clamp',\n",
       " 'clapper board',\n",
       " 'clapping hands',\n",
       " 'clapping hands dark skin tone',\n",
       " 'clapping hands light skin tone',\n",
       " 'clapping hands medium-dark skin tone',\n",
       " 'clapping hands medium-light skin tone',\n",
       " 'clapping hands medium skin tone',\n",
       " 'classical building',\n",
       " 'clinking beer mugs',\n",
       " 'clinking glasses',\n",
       " 'clipboard',\n",
       " 'clockwise vertical arrows',\n",
       " 'closed book',\n",
       " 'closed mailbox with lowered flag',\n",
       " 'closed mailbox with raised flag',\n",
       " 'closed umbrella',\n",
       " 'cloud',\n",
       " 'cloud with lightning',\n",
       " 'cloud with lightning and rain',\n",
       " 'cloud with rain',\n",
       " 'cloud with snow',\n",
       " 'clown face',\n",
       " 'club suit',\n",
       " 'clutch bag',\n",
       " 'coat',\n",
       " 'cocktail glass',\n",
       " 'coconut',\n",
       " 'coffin',\n",
       " 'collision',\n",
       " 'comet',\n",
       " 'computer disk',\n",
       " 'computer mouse',\n",
       " 'confetti ball',\n",
       " 'confounded face',\n",
       " 'confused face',\n",
       " 'construction',\n",
       " 'construction worker',\n",
       " 'construction worker dark skin tone',\n",
       " 'construction worker light skin tone',\n",
       " 'construction worker medium-dark skin tone',\n",
       " 'construction worker medium-light skin tone',\n",
       " 'construction worker medium skin tone',\n",
       " 'control knobs',\n",
       " 'convenience store',\n",
       " 'cooked rice',\n",
       " 'cookie',\n",
       " 'cooking',\n",
       " 'copyright',\n",
       " 'couch and lamp',\n",
       " 'counterclockwise arrows button',\n",
       " 'couple with heart',\n",
       " 'couple with heart man man',\n",
       " 'couple with heart woman man',\n",
       " 'couple with heart woman woman',\n",
       " 'cow',\n",
       " 'cow face',\n",
       " 'cowboy hat face',\n",
       " 'crab',\n",
       " 'crayon',\n",
       " 'credit card',\n",
       " 'crescent moon',\n",
       " 'cricket',\n",
       " 'cricket game',\n",
       " 'crocodile',\n",
       " 'croissant',\n",
       " 'cross mark',\n",
       " 'cross mark button',\n",
       " 'crossed fingers',\n",
       " 'crossed fingers dark skin tone',\n",
       " 'crossed fingers light skin tone',\n",
       " 'crossed fingers medium-dark skin tone',\n",
       " 'crossed fingers medium-light skin tone',\n",
       " 'crossed fingers medium skin tone',\n",
       " 'crossed flags',\n",
       " 'crossed swords',\n",
       " 'crown',\n",
       " 'crying cat face',\n",
       " 'crying face',\n",
       " 'crystal ball',\n",
       " 'cucumber',\n",
       " 'cup with straw',\n",
       " 'curling stone',\n",
       " 'curly loop',\n",
       " 'currency exchange',\n",
       " 'curry rice',\n",
       " 'custard',\n",
       " 'customs',\n",
       " 'cut of meat',\n",
       " 'cyclone',\n",
       " 'dagger',\n",
       " 'dango',\n",
       " 'dashing away',\n",
       " 'deciduous tree',\n",
       " 'deer',\n",
       " 'delivery truck',\n",
       " 'department store',\n",
       " 'derelict house',\n",
       " 'desert',\n",
       " 'desert island',\n",
       " 'desktop computer',\n",
       " 'detective',\n",
       " 'detective dark skin tone',\n",
       " 'detective light skin tone',\n",
       " 'detective medium-dark skin tone',\n",
       " 'detective medium-light skin tone',\n",
       " 'detective medium skin tone',\n",
       " 'diamond suit',\n",
       " 'diamond with a dot',\n",
       " 'dim button',\n",
       " 'direct hit',\n",
       " 'disappointed face',\n",
       " 'dizzy',\n",
       " 'dizzy face',\n",
       " 'dog',\n",
       " 'dog face',\n",
       " 'dollar banknote',\n",
       " 'dolphin',\n",
       " 'door',\n",
       " 'dotted six-pointed star',\n",
       " 'double curly loop',\n",
       " 'double exclamation mark',\n",
       " 'doughnut',\n",
       " 'dove',\n",
       " 'down-left arrow',\n",
       " 'down-right arrow',\n",
       " 'down arrow',\n",
       " 'downcast face with sweat',\n",
       " 'downwards button',\n",
       " 'dragon',\n",
       " 'dragon face',\n",
       " 'dress',\n",
       " 'drooling face',\n",
       " 'droplet',\n",
       " 'drum',\n",
       " 'duck',\n",
       " 'dumpling',\n",
       " 'dvd',\n",
       " 'e-mail',\n",
       " 'eagle',\n",
       " 'ear',\n",
       " 'ear dark skin tone',\n",
       " 'ear light skin tone',\n",
       " 'ear medium-dark skin tone',\n",
       " 'ear medium-light skin tone',\n",
       " 'ear medium skin tone',\n",
       " 'ear of corn',\n",
       " 'egg',\n",
       " 'eggplant',\n",
       " 'eight-pointed star',\n",
       " 'eight-spoked asterisk',\n",
       " 'eight-thirty',\n",
       " 'eight o’clock',\n",
       " 'eject button',\n",
       " 'electric plug',\n",
       " 'elephant',\n",
       " 'eleven-thirty',\n",
       " 'eleven o’clock',\n",
       " 'elf',\n",
       " 'elf dark skin tone',\n",
       " 'elf light skin tone',\n",
       " 'elf medium-dark skin tone',\n",
       " 'elf medium-light skin tone',\n",
       " 'elf medium skin tone',\n",
       " 'envelope',\n",
       " 'envelope with arrow',\n",
       " 'euro banknote',\n",
       " 'evergreen tree',\n",
       " 'ewe',\n",
       " 'exclamation mark',\n",
       " 'exclamation question mark',\n",
       " 'exploding head',\n",
       " 'expressionless face',\n",
       " 'eye',\n",
       " 'eye in speech bubble',\n",
       " 'eyes',\n",
       " 'face blowing a kiss',\n",
       " 'face savoring food',\n",
       " 'face screaming in fear',\n",
       " 'face vomiting',\n",
       " 'face with hand over mouth',\n",
       " 'face with head-bandage',\n",
       " 'face with medical mask',\n",
       " 'face with monocle',\n",
       " 'face with open mouth',\n",
       " 'face with raised eyebrow',\n",
       " 'face with rolling eyes',\n",
       " 'face with steam from nose',\n",
       " 'face with symbols on mouth',\n",
       " 'face with tears of joy',\n",
       " 'face with thermometer',\n",
       " 'face with tongue',\n",
       " 'face without mouth',\n",
       " 'factory',\n",
       " 'fairy',\n",
       " 'fairy dark skin tone',\n",
       " 'fairy light skin tone',\n",
       " 'fairy medium-dark skin tone',\n",
       " 'fairy medium-light skin tone',\n",
       " 'fairy medium skin tone',\n",
       " 'fallen leaf',\n",
       " 'family',\n",
       " 'family man boy',\n",
       " 'family man boy boy',\n",
       " 'family man girl',\n",
       " 'family man girl boy',\n",
       " 'family man girl girl',\n",
       " 'family man man boy',\n",
       " 'family man man boy boy',\n",
       " 'family man man girl',\n",
       " 'family man man girl boy',\n",
       " 'family man man girl girl',\n",
       " 'family man woman boy',\n",
       " 'family man woman boy boy',\n",
       " 'family man woman girl',\n",
       " 'family man woman girl boy',\n",
       " 'family man woman girl girl',\n",
       " 'family woman boy',\n",
       " 'family woman boy boy',\n",
       " 'family woman girl',\n",
       " 'family woman girl boy',\n",
       " 'family woman girl girl',\n",
       " 'family woman woman boy',\n",
       " 'family woman woman boy boy',\n",
       " 'family woman woman girl',\n",
       " 'family woman woman girl boy',\n",
       " 'family woman woman girl girl',\n",
       " 'fast-forward button',\n",
       " 'fast down button',\n",
       " 'fast reverse button',\n",
       " 'fast up button',\n",
       " 'fax machine',\n",
       " 'fearful face',\n",
       " 'female sign',\n",
       " 'ferris wheel',\n",
       " 'ferry',\n",
       " 'field hockey',\n",
       " 'file cabinet',\n",
       " 'file folder',\n",
       " 'film frames',\n",
       " 'film projector',\n",
       " 'fire',\n",
       " 'fire engine',\n",
       " 'fireworks',\n",
       " 'first quarter moon',\n",
       " 'first quarter moon face',\n",
       " 'fish',\n",
       " 'fish cake with swirl',\n",
       " 'fishing pole',\n",
       " 'five-thirty',\n",
       " 'five o’clock',\n",
       " 'flag in hole',\n",
       " 'flashlight',\n",
       " 'fleur-de-lis',\n",
       " 'flexed biceps',\n",
       " 'flexed biceps dark skin tone',\n",
       " 'flexed biceps light skin tone',\n",
       " 'flexed biceps medium-dark skin tone',\n",
       " 'flexed biceps medium-light skin tone',\n",
       " 'flexed biceps medium skin tone',\n",
       " 'floppy disk',\n",
       " 'flower playing cards',\n",
       " 'flushed face',\n",
       " 'flying saucer',\n",
       " 'fog',\n",
       " 'foggy',\n",
       " 'folded hands',\n",
       " 'folded hands dark skin tone',\n",
       " 'folded hands light skin tone',\n",
       " 'folded hands medium-dark skin tone',\n",
       " 'folded hands medium-light skin tone',\n",
       " 'folded hands medium skin tone',\n",
       " 'footprints',\n",
       " 'fork and knife',\n",
       " 'fork and knife with plate',\n",
       " 'fortune cookie',\n",
       " 'fountain',\n",
       " 'fountain pen',\n",
       " 'four-thirty',\n",
       " 'four leaf clover',\n",
       " 'four o’clock',\n",
       " 'fox face',\n",
       " 'framed picture',\n",
       " 'french fries',\n",
       " 'fried shrimp',\n",
       " 'frog face',\n",
       " 'front-facing baby chick',\n",
       " 'frowning face',\n",
       " 'frowning face with open mouth',\n",
       " 'fuel pump',\n",
       " 'full moon',\n",
       " 'full moon face',\n",
       " 'funeral urn',\n",
       " 'game die',\n",
       " 'gear',\n",
       " 'gem stone',\n",
       " 'genie',\n",
       " 'ghost',\n",
       " 'giraffe',\n",
       " 'girl',\n",
       " 'girl dark skin tone',\n",
       " 'girl light skin tone',\n",
       " 'girl medium-dark skin tone',\n",
       " 'girl medium-light skin tone',\n",
       " 'girl medium skin tone',\n",
       " 'glass of milk',\n",
       " 'glasses',\n",
       " 'globe showing americas',\n",
       " 'globe showing asia-australia',\n",
       " 'globe showing europe-africa',\n",
       " 'globe with meridians',\n",
       " 'gloves',\n",
       " 'glowing star',\n",
       " 'goal net',\n",
       " 'goat',\n",
       " 'goblin',\n",
       " 'gorilla',\n",
       " 'graduation cap',\n",
       " 'grapes',\n",
       " 'green apple',\n",
       " 'green book',\n",
       " 'green heart',\n",
       " 'green salad',\n",
       " 'grimacing face',\n",
       " 'grinning cat face',\n",
       " 'grinning cat face with smiling eyes',\n",
       " 'grinning face',\n",
       " 'grinning face with big eyes',\n",
       " 'grinning face with smiling eyes',\n",
       " 'grinning face with sweat',\n",
       " 'grinning squinting face',\n",
       " 'growing heart',\n",
       " 'guard',\n",
       " 'guard dark skin tone',\n",
       " 'guard light skin tone',\n",
       " 'guard medium-dark skin tone',\n",
       " 'guard medium-light skin tone',\n",
       " 'guard medium skin tone',\n",
       " 'guitar',\n",
       " 'hamburger',\n",
       " 'hammer',\n",
       " 'hammer and pick',\n",
       " 'hammer and wrench',\n",
       " 'hamster face',\n",
       " 'hand with fingers splayed',\n",
       " 'hand with fingers splayed dark skin tone',\n",
       " 'hand with fingers splayed light skin tone',\n",
       " 'hand with fingers splayed medium-dark skin tone',\n",
       " 'hand with fingers splayed medium-light skin tone',\n",
       " 'hand with fingers splayed medium skin tone',\n",
       " 'handbag',\n",
       " 'handshake',\n",
       " 'hatching chick',\n",
       " 'headphone',\n",
       " 'hear-no-evil monkey',\n",
       " 'heart decoration',\n",
       " 'heart suit',\n",
       " 'heart with arrow',\n",
       " 'heart with ribbon',\n",
       " 'heavy check mark',\n",
       " 'heavy division sign',\n",
       " 'heavy dollar sign',\n",
       " 'heavy heart exclamation',\n",
       " 'heavy large circle',\n",
       " 'heavy minus sign',\n",
       " 'heavy multiplication x',\n",
       " 'heavy plus sign',\n",
       " 'hedgehog',\n",
       " 'helicopter',\n",
       " 'herb',\n",
       " 'hibiscus',\n",
       " 'high-heeled shoe',\n",
       " 'high-speed train',\n",
       " 'high voltage',\n",
       " 'hole',\n",
       " 'honey pot',\n",
       " 'honeybee',\n",
       " 'horizontal traffic light',\n",
       " 'horse',\n",
       " 'horse face',\n",
       " 'horse racing',\n",
       " 'horse racing dark skin tone',\n",
       " 'horse racing light skin tone',\n",
       " 'horse racing medium-dark skin tone',\n",
       " 'horse racing medium-light skin tone',\n",
       " 'horse racing medium skin tone',\n",
       " 'hospital',\n",
       " 'hot beverage',\n",
       " 'hot dog',\n",
       " 'hot pepper',\n",
       " 'hot springs',\n",
       " 'hotel',\n",
       " 'hourglass done',\n",
       " 'hourglass not done',\n",
       " 'house',\n",
       " 'house with garden',\n",
       " 'houses',\n",
       " 'hugging face',\n",
       " 'hundred points',\n",
       " 'hushed face',\n",
       " 'ice cream',\n",
       " 'ice hockey',\n",
       " 'ice skate',\n",
       " 'inbox tray',\n",
       " 'incoming envelope',\n",
       " 'index pointing up',\n",
       " 'index pointing up dark skin tone',\n",
       " 'index pointing up light skin tone',\n",
       " 'index pointing up medium-dark skin tone',\n",
       " 'index pointing up medium-light skin tone',\n",
       " 'index pointing up medium skin tone',\n",
       " 'information',\n",
       " 'input latin letters',\n",
       " 'input latin lowercase',\n",
       " 'input latin uppercase',\n",
       " 'input numbers',\n",
       " 'input symbols',\n",
       " 'jack-o-lantern',\n",
       " 'jeans',\n",
       " ...]"
      ]
     },
     "execution_count": 8,
     "metadata": {},
     "output_type": "execute_result"
    }
   ],
   "source": [
    "e_l"
   ]
  },
  {
   "cell_type": "code",
   "execution_count": 10,
   "metadata": {},
   "outputs": [
    {
     "name": "stdout",
     "output_type": "stream",
     "text": [
      "Python is 🇮🇳\n"
     ]
    }
   ],
   "source": [
    "print(emoji.emojize('Python is :India:'))"
   ]
  },
  {
   "cell_type": "code",
   "execution_count": 11,
   "metadata": {},
   "outputs": [],
   "source": [
    "import spacy"
   ]
  },
  {
   "cell_type": "code",
   "execution_count": 12,
   "metadata": {},
   "outputs": [
    {
     "name": "stderr",
     "output_type": "stream",
     "text": [
      "100%|██████████| 400000/400000 [00:42<00:00, 9378.62it/s]\n"
     ]
    }
   ],
   "source": [
    "nlp = spacy.load('en')\n",
    "from tqdm import tqdm\n",
    "with open('/home/niladri/Projects/emoji/glove.6B/glove.6B.300d.txt', 'r') as f:\n",
    "    for line in tqdm(f, total=400000):\n",
    "        parts = line.split()\n",
    "        word = parts[0]\n",
    "        vec = np.array([float(v) for v in parts[1:]], dtype='f')\n",
    "        nlp.vocab.set_vector(word, vec)"
   ]
  },
  {
   "cell_type": "code",
   "execution_count": 13,
   "metadata": {},
   "outputs": [
    {
     "name": "stderr",
     "output_type": "stream",
     "text": [
      "100%|██████████| 3415/3415 [00:34<00:00, 98.43it/s]\n"
     ]
    }
   ],
   "source": [
    "docs = [nlp(str(keywords)) for keywords in tqdm(e_l)]\n",
    "doc_vectors = np.array([doc.vector for doc in docs])"
   ]
  },
  {
   "cell_type": "code",
   "execution_count": 14,
   "metadata": {},
   "outputs": [],
   "source": [
    "from numpy import dot\n",
    "from numpy.linalg import norm"
   ]
  },
  {
   "cell_type": "code",
   "execution_count": 15,
   "metadata": {},
   "outputs": [],
   "source": [
    "def most_similar(vectors, vec):\n",
    "    cosine = lambda v1, v2: dot(v1, v2) / (norm(v1) * norm(v2))\n",
    "    dst = np.dot(vectors, vec) / (norm(vectors) * norm(vec))\n",
    "    return (np.argsort(-dst))[0],max(dst)"
   ]
  },
  {
   "cell_type": "code",
   "execution_count": 111,
   "metadata": {},
   "outputs": [],
   "source": [
    "sentences=[\"star boy\",\"i love you\",\"x marks the spot\",\"the pizza is great\",\"chicken lays eggs\",\"games or a mobile ?\",\"i have scored hundred in maths\",\"She is the queen of hearts\",\"messi is the king of soccer\",\"lets build a rocket\",\"I will dance at your wedding\",\"i love my mother\",\"coffee or tea\",\"aliens have cool spaceships\",\"india is the greatest\",\"china is a wonderful country\",\"good job\",\"the terrorist bombed the church\"]"
   ]
  },
  {
   "cell_type": "code",
   "execution_count": 112,
   "metadata": {},
   "outputs": [
    {
     "name": "stdout",
     "output_type": "stream",
     "text": [
      "star boy\n"
     ]
    },
    {
     "data": {
      "text/html": [
       "<font size=\"+3\">⭐ 👦</font>"
      ],
      "text/plain": [
       "<IPython.core.display.HTML object>"
      ]
     },
     "metadata": {},
     "output_type": "display_data"
    },
    {
     "name": "stdout",
     "output_type": "stream",
     "text": [
      "i love you\n"
     ]
    },
    {
     "data": {
      "text/html": [
       "<font size=\"+3\">🆔 💌 🙅</font>"
      ],
      "text/plain": [
       "<IPython.core.display.HTML object>"
      ]
     },
     "metadata": {},
     "output_type": "display_data"
    },
    {
     "name": "stdout",
     "output_type": "stream",
     "text": [
      "x marks the spot\n"
     ]
    },
    {
     "data": {
      "text/html": [
       "<font size=\"+3\">❌ 💴 the spot</font>"
      ],
      "text/plain": [
       "<IPython.core.display.HTML object>"
      ]
     },
     "metadata": {},
     "output_type": "display_data"
    },
    {
     "name": "stdout",
     "output_type": "stream",
     "text": [
      "the pizza is great\n"
     ]
    },
    {
     "data": {
      "text/html": [
       "<font size=\"+3\">the 🍕 🅰 great</font>"
      ],
      "text/plain": [
       "<IPython.core.display.HTML object>"
      ]
     },
     "metadata": {},
     "output_type": "display_data"
    },
    {
     "name": "stdout",
     "output_type": "stream",
     "text": [
      "chicken lays eggs\n"
     ]
    },
    {
     "data": {
      "text/html": [
       "<font size=\"+3\">🐔 lays 🍳</font>"
      ],
      "text/plain": [
       "<IPython.core.display.HTML object>"
      ]
     },
     "metadata": {},
     "output_type": "display_data"
    },
    {
     "name": "stdout",
     "output_type": "stream",
     "text": [
      "games or a mobile ?\n"
     ]
    },
    {
     "data": {
      "text/html": [
       "<font size=\"+3\">🎮 or 🅰 📱 🙅</font>"
      ],
      "text/plain": [
       "<IPython.core.display.HTML object>"
      ]
     },
     "metadata": {},
     "output_type": "display_data"
    },
    {
     "name": "stdout",
     "output_type": "stream",
     "text": [
      "i have scored hundred in maths\n"
     ]
    },
    {
     "data": {
      "text/html": [
       "<font size=\"+3\">🆔 have 🥅 💯 in maths</font>"
      ],
      "text/plain": [
       "<IPython.core.display.HTML object>"
      ]
     },
     "metadata": {},
     "output_type": "display_data"
    },
    {
     "name": "stdout",
     "output_type": "stream",
     "text": [
      "She is the queen of hearts\n"
     ]
    },
    {
     "data": {
      "text/html": [
       "<font size=\"+3\">👩 🅰 the 👸 of ♥</font>"
      ],
      "text/plain": [
       "<IPython.core.display.HTML object>"
      ]
     },
     "metadata": {},
     "output_type": "display_data"
    },
    {
     "name": "stdout",
     "output_type": "stream",
     "text": [
      "messi is the king of soccer\n"
     ]
    },
    {
     "data": {
      "text/html": [
       "<font size=\"+3\">messi 🅰 the 🤴 of ⚽</font>"
      ],
      "text/plain": [
       "<IPython.core.display.HTML object>"
      ]
     },
     "metadata": {},
     "output_type": "display_data"
    },
    {
     "name": "stdout",
     "output_type": "stream",
     "text": [
      "lets build a rocket\n"
     ]
    },
    {
     "data": {
      "text/html": [
       "<font size=\"+3\">lets 🏗 🅰 🚀</font>"
      ],
      "text/plain": [
       "<IPython.core.display.HTML object>"
      ]
     },
     "metadata": {},
     "output_type": "display_data"
    },
    {
     "name": "stdout",
     "output_type": "stream",
     "text": [
      "I will dance at your wedding\n"
     ]
    },
    {
     "data": {
      "text/html": [
       "<font size=\"+3\">🆔 will 👯 🌉 your 💒</font>"
      ],
      "text/plain": [
       "<IPython.core.display.HTML object>"
      ]
     },
     "metadata": {},
     "output_type": "display_data"
    },
    {
     "name": "stdout",
     "output_type": "stream",
     "text": [
      "i love my mother\n"
     ]
    },
    {
     "data": {
      "text/html": [
       "<font size=\"+3\">🆔 💌 my 👩</font>"
      ],
      "text/plain": [
       "<IPython.core.display.HTML object>"
      ]
     },
     "metadata": {},
     "output_type": "display_data"
    },
    {
     "name": "stdout",
     "output_type": "stream",
     "text": [
      "coffee or tea\n"
     ]
    },
    {
     "data": {
      "text/html": [
       "<font size=\"+3\">☕ or 🍵</font>"
      ],
      "text/plain": [
       "<IPython.core.display.HTML object>"
      ]
     },
     "metadata": {},
     "output_type": "display_data"
    },
    {
     "name": "stdout",
     "output_type": "stream",
     "text": [
      "aliens have cool spaceships\n"
     ]
    },
    {
     "data": {
      "text/html": [
       "<font size=\"+3\">👽 have 🆒 spaceships</font>"
      ],
      "text/plain": [
       "<IPython.core.display.HTML object>"
      ]
     },
     "metadata": {},
     "output_type": "display_data"
    },
    {
     "name": "stdout",
     "output_type": "stream",
     "text": [
      "india is the greatest\n"
     ]
    },
    {
     "data": {
      "text/html": [
       "<font size=\"+3\">🇮🇳 🅰 the greatest</font>"
      ],
      "text/plain": [
       "<IPython.core.display.HTML object>"
      ]
     },
     "metadata": {},
     "output_type": "display_data"
    },
    {
     "name": "stdout",
     "output_type": "stream",
     "text": [
      "china is a wonderful country\n"
     ]
    },
    {
     "data": {
      "text/html": [
       "<font size=\"+3\">🇨🇳 🅰 🅰 wonderful 🇮🇶</font>"
      ],
      "text/plain": [
       "<IPython.core.display.HTML object>"
      ]
     },
     "metadata": {},
     "output_type": "display_data"
    },
    {
     "name": "stdout",
     "output_type": "stream",
     "text": [
      "good job\n"
     ]
    },
    {
     "data": {
      "text/html": [
       "<font size=\"+3\">🙅 job</font>"
      ],
      "text/plain": [
       "<IPython.core.display.HTML object>"
      ]
     },
     "metadata": {},
     "output_type": "display_data"
    },
    {
     "name": "stdout",
     "output_type": "stream",
     "text": [
      "the terrorist bombed the church\n"
     ]
    },
    {
     "data": {
      "text/html": [
       "<font size=\"+3\">the 💣 💣 the ⛪</font>"
      ],
      "text/plain": [
       "<IPython.core.display.HTML object>"
      ]
     },
     "metadata": {},
     "output_type": "display_data"
    }
   ],
   "source": [
    "for sentence in sentences:\n",
    "    l=[]\n",
    "    for w in sentence.split(\" \"):\n",
    "        v = nlp(w.lower()).vector\n",
    "        ms,sim=most_similar(doc_vectors, v)\n",
    "        #print(sim)\n",
    "        if(sim>0.0115):\n",
    "            word=emo_get[ms]\n",
    "            l.append(emoji.emojize(word,use_aliases=True))\n",
    "        else:\n",
    "            l.append(w)\n",
    "    print(sentence)\n",
    "    display(HTML('<font size=\"+3\">{}</font>'.format(' '.join([x for x in l]))))"
   ]
  },
  {
   "cell_type": "code",
   "execution_count": null,
   "metadata": {},
   "outputs": [],
   "source": []
  }
 ],
 "metadata": {
  "kernelspec": {
   "display_name": "Python 3",
   "language": "python",
   "name": "python3"
  },
  "language_info": {
   "codemirror_mode": {
    "name": "ipython",
    "version": 3
   },
   "file_extension": ".py",
   "mimetype": "text/x-python",
   "name": "python",
   "nbconvert_exporter": "python",
   "pygments_lexer": "ipython3",
   "version": "3.6.5"
  }
 },
 "nbformat": 4,
 "nbformat_minor": 2
}
